{
 "cells": [
  {
   "cell_type": "markdown",
   "metadata": {},
   "source": [
    "# Testing LightFM"
   ]
  },
  {
   "cell_type": "code",
   "execution_count": null,
   "metadata": {},
   "outputs": [],
   "source": [
    "import pickle\n",
    "\n",
    "from logger import Logger\n",
    "from datetime import datetime\n",
    "\n",
    "from tqdm import tqdm\n",
    "from sklearn.model_selection import train_test_split\n",
    "\n",
    "from lightfm import LightFM\n",
    "from lightfm.cross_validation import random_train_test_split\n",
    "from lightfm.evaluation import precision_at_k"
   ]
  },
  {
   "cell_type": "code",
   "execution_count": null,
   "metadata": {},
   "outputs": [],
   "source": [
    "ratings_pivot_csr_filename = \"data/intersect-20m/ratings.csr\"\n",
    "\n",
    "ratings_pivot = pickle.load(open(ratings_pivot_csr_filename, 'rb'))\n",
    "train, test = random_train_test_split(ratings_pivot, test_percentage=0.2)"
   ]
  },
  {
   "cell_type": "markdown",
   "metadata": {},
   "source": [
    "### ========== Parameter =========="
   ]
  },
  {
   "cell_type": "code",
   "execution_count": null,
   "metadata": {},
   "outputs": [],
   "source": [
    "alpha = 0.003\n",
    "epochs = 50\n",
    "num_components = 64\n",
    "step = 5\n",
    "\n",
    "timestamp = str(datetime.timestamp(datetime.now()))\n",
    "\n",
    "logger = Logger()\n",
    "session_log_path = \"log/{}/\".format(timestamp)\n",
    "logger.create_session_folder(session_log_path)\n",
    "logger.set_default_filename(session_log_path + \"log.txt\")"
   ]
  },
  {
   "cell_type": "markdown",
   "metadata": {},
   "source": [
    "### ========== Models =========="
   ]
  },
  {
   "cell_type": "code",
   "execution_count": null,
   "metadata": {},
   "outputs": [],
   "source": [
    "model_k5 = LightFM(no_components=num_components,\n",
    "                    loss='warp',\n",
    "                    k=5,\n",
    "                    learning_schedule='adagrad',\n",
    "                    user_alpha=alpha,\n",
    "                    item_alpha=alpha)\n",
    "\n",
    "model_k10 = LightFM(no_components=num_components,\n",
    "                    loss='warp',\n",
    "                    k=10,\n",
    "                    learning_schedule='adagrad',\n",
    "                    user_alpha=alpha,\n",
    "                    item_alpha=alpha)"
   ]
  },
  {
   "cell_type": "markdown",
   "metadata": {},
   "source": [
    "### ========== User & Movie features =========="
   ]
  },
  {
   "cell_type": "code",
   "execution_count": null,
   "metadata": {},
   "outputs": [],
   "source": [
    "from scipy.sparse import identity\n",
    "\n",
    "user_identity = identity(train.shape[0])\n",
    "item_identity = identity(train.shape[1])"
   ]
  },
  {
   "cell_type": "code",
   "execution_count": null,
   "metadata": {},
   "outputs": [],
   "source": [
    "# ========== Train ==========\n",
    "\n",
    "logger.log(str(model_k5.get_params()))\n",
    "for epoch in tqdm(range(epochs)): \n",
    "    \n",
    "    model_k5.fit_partial(train, epochs=step, user_features=user_identity, item_features=item_identity, num_threads=6, verbose=True) \n",
    "    \n",
    "    mean_precision = precision_at_k(model_k5, train, k=5).mean()\n",
    "    logger.log(\"Precision k5 : {}\".format(mean_precision))\n",
    "    logger.save_model(model_k5, session_log_path + \"models/epoch_{}\".format(epoch))\n",
    "\n",
    "logger.log(str(model_k10.get_params()))\n",
    "for epoch in tqdm(range(epochs)): \n",
    "    \n",
    "    model_k10.fit_partial(train, epochs=step, user_features=user_identity, item_features=item_identity, num_threads=6, verbose=True)\n",
    "    \n",
    "    mean_precision = precision_at_k(model_k10, train, k=10).mean()\n",
    "    logger.log(\"Precision k10 : {}\".format(mean_precision))\n",
    "    logger.save_model(model_k10, session_log_path + \"models/epoch_{}\".format(epoch))"
   ]
  },
  {
   "cell_type": "markdown",
   "metadata": {},
   "source": [
    "## Save models"
   ]
  }
 ],
 "metadata": {
  "kernelspec": {
   "display_name": "Python 3",
   "language": "python",
   "name": "python3"
  },
  "language_info": {
   "codemirror_mode": {
    "name": "ipython",
    "version": 3
   },
   "file_extension": ".py",
   "mimetype": "text/x-python",
   "name": "python",
   "nbconvert_exporter": "python",
   "pygments_lexer": "ipython3",
   "version": "3.5.2"
  }
 },
 "nbformat": 4,
 "nbformat_minor": 2
}
