{
 "cells": [
  {
   "cell_type": "markdown",
   "metadata": {},
   "source": [
    "# Testing LightFM"
   ]
  },
  {
   "cell_type": "code",
   "execution_count": 1,
   "metadata": {},
   "outputs": [],
   "source": [
    "import pandas as pd\n",
    "import numpy as np\n",
    "import matplotlib.pyplot as plt\n",
    "import scipy\n",
    "from tqdm import tqdm\n",
    "\n",
    "from sklearn.model_selection import train_test_split\n",
    "from sklearn.metrics import mean_squared_error as MSE"
   ]
  },
  {
   "cell_type": "markdown",
   "metadata": {},
   "source": [
    "## Load"
   ]
  },
  {
   "cell_type": "code",
   "execution_count": 2,
   "metadata": {},
   "outputs": [],
   "source": [
    "import pickle\n",
    "\n",
    "MOVIELENS_DATASET = \"data/intersect-20m/\"\n",
    "ratings_pivot_csr_filename = MOVIELENS_DATASET + \"/ratings.csr\"\n",
    "ratings_pivot = pickle.load(open(ratings_pivot_csr_filename, 'rb'))"
   ]
  },
  {
   "cell_type": "markdown",
   "metadata": {},
   "source": [
    "## LightFM model"
   ]
  },
  {
   "cell_type": "code",
   "execution_count": 3,
   "metadata": {},
   "outputs": [],
   "source": [
    "from lightfm import LightFM\n",
    "from lightfm.cross_validation import random_train_test_split\n",
    "\n",
    "train, test = random_train_test_split(ratings_pivot, test_percentage=0.2)"
   ]
  },
  {
   "cell_type": "code",
   "execution_count": 4,
   "metadata": {},
   "outputs": [],
   "source": [
    "import time\n",
    "from ipywidgets import IntProgress\n",
    "from IPython.display import display\n",
    "\n",
    "from lightfm.evaluation import precision_at_k\n",
    "\n",
    "alpha = 1e-03\n",
    "epochs = 30\n",
    "num_components = 64"
   ]
  },
  {
   "cell_type": "code",
   "execution_count": 5,
   "metadata": {},
   "outputs": [],
   "source": [
    "model_k3 = LightFM(no_components=num_components,\n",
    "                    loss='warp',\n",
    "                    k=3,\n",
    "                    learning_schedule='adagrad',\n",
    "                    user_alpha=alpha,\n",
    "                    item_alpha=alpha)\n",
    "\n",
    "model_k5 = LightFM(no_components=num_components,\n",
    "                    loss='warp',\n",
    "                    k=5,\n",
    "                    learning_schedule='adagrad',\n",
    "                    user_alpha=alpha,\n",
    "                    item_alpha=alpha)\n",
    "\n",
    "model_k10 = LightFM(no_components=num_components,\n",
    "                    loss='warp',\n",
    "                    k=10,\n",
    "                    learning_schedule='adagrad',\n",
    "                    user_alpha=alpha,\n",
    "                    item_alpha=alpha)"
   ]
  },
  {
   "cell_type": "code",
   "execution_count": null,
   "metadata": {},
   "outputs": [
    {
     "name": "stderr",
     "output_type": "stream",
     "text": [
      "\r",
      "  0%|          | 0/30 [00:00<?, ?it/s]"
     ]
    }
   ],
   "source": [
    "duration_k3 = []\n",
    "precisions_k3 = []\n",
    "\n",
    "for epoch in tqdm(range(epochs)): \n",
    "    \n",
    "    start = time.time()\n",
    "    model_k3.fit_partial(train, epochs=1, num_threads=4)\n",
    "    duration_k3.append(time.time() - start)\n",
    "    \n",
    "    precisions_k3.append(precision_at_k(model_k3, train, k=3).mean())"
   ]
  },
  {
   "cell_type": "code",
   "execution_count": null,
   "metadata": {},
   "outputs": [],
   "source": [
    "duration_k5 = []\n",
    "precisions_k5 = []\n",
    "\n",
    "for epoch in tqdm(range(epochs)): \n",
    "    \n",
    "    start = time.time()\n",
    "    model_k5.fit_partial(train, epochs=1, num_threads=4)\n",
    "    duration_k5.append(time.time() - start)\n",
    "    \n",
    "    precisions_k5.append(precision_at_k(model_k5, train, k=5).mean())"
   ]
  },
  {
   "cell_type": "code",
   "execution_count": null,
   "metadata": {},
   "outputs": [],
   "source": [
    "duration_k10 = []\n",
    "precisions_k10 = []\n",
    "\n",
    "for epoch in tqdm(range(epochs)): \n",
    "    \n",
    "    start = time.time()\n",
    "    model_k10.fit_partial(train, epochs=1, num_threads=4)\n",
    "    duration_k10.append(time.time() - start)\n",
    "    \n",
    "    precisions_k10.append(precision_at_k(model_k10, train, k=10).mean())"
   ]
  },
  {
   "cell_type": "code",
   "execution_count": null,
   "metadata": {
    "scrolled": true
   },
   "outputs": [],
   "source": [
    "x = np.arange(epochs)\n",
    "plt.plot(x, np.array(precisions_k3))\n",
    "plt.plot(x, np.array(precisions_k5))\n",
    "plt.plot(x, np.array(precisions_k10))\n",
    "\n",
    "plt.legend(['k3', 'k5', 'k10'], loc='lower right')\n",
    "plt.show()"
   ]
  },
  {
   "cell_type": "code",
   "execution_count": null,
   "metadata": {},
   "outputs": [],
   "source": [
    "x = np.arange(epochs)\n",
    "plt.plot(x, np.array(duration_k3))\n",
    "plt.plot(x, np.array(duration_k5))\n",
    "plt.plot(x, np.array(duration_k10))\n",
    "\n",
    "plt.legend(['k3', 'k5', 'k10'], loc='lower right')\n",
    "plt.show()"
   ]
  },
  {
   "cell_type": "markdown",
   "metadata": {},
   "source": [
    "## Save models"
   ]
  },
  {
   "cell_type": "code",
   "execution_count": null,
   "metadata": {},
   "outputs": [],
   "source": [
    "pickle.dump(model_k3, open(\"Models/LightFM/model.k3.30epoch\", 'wb'))\n",
    "pickle.dump(model_k5, open(\"Models/LightFM/model.k3.30epoch\", 'wb'))\n",
    "pickle.dump(model_k10, open(\"Models/LightFM/model.k3.30epoch\", 'wb'))"
   ]
  }
 ],
 "metadata": {
  "kernelspec": {
   "display_name": "Python 3",
   "language": "python",
   "name": "python3"
  },
  "language_info": {
   "codemirror_mode": {
    "name": "ipython",
    "version": 3
   },
   "file_extension": ".py",
   "mimetype": "text/x-python",
   "name": "python",
   "nbconvert_exporter": "python",
   "pygments_lexer": "ipython3",
   "version": "3.5.2"
  }
 },
 "nbformat": 4,
 "nbformat_minor": 2
}
