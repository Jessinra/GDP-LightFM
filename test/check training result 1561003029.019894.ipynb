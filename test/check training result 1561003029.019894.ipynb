{
 "cells": [
  {
   "cell_type": "markdown",
   "metadata": {},
   "source": [
    "# Testing LightFM"
   ]
  },
  {
   "cell_type": "code",
   "execution_count": 30,
   "metadata": {},
   "outputs": [],
   "source": [
    "TEST_CODE = \"1561003029.019894\"\n",
    "CHOSEN_EPOCH = 480\n",
    "\n",
    "MODEL_PATH = \"../log/{}/models/epoch_{}\".format(TEST_CODE, CHOSEN_EPOCH)\n",
    "LOG_PATH = \"../log/{}/log.txt\".format(TEST_CODE)"
   ]
  },
  {
   "cell_type": "code",
   "execution_count": 31,
   "metadata": {},
   "outputs": [],
   "source": [
    "import pickle\n",
    "\n",
    "from datetime import datetime\n",
    "\n",
    "from tqdm import tqdm\n",
    "from sklearn.model_selection import train_test_split\n",
    "\n",
    "from lightfm import LightFM\n",
    "from lightfm.cross_validation import random_train_test_split\n",
    "from lightfm.evaluation import precision_at_k"
   ]
  },
  {
   "cell_type": "code",
   "execution_count": 32,
   "metadata": {},
   "outputs": [],
   "source": [
    "import pickle\n",
    "import os\n",
    "\n",
    "class Logger:\n",
    "\n",
    "    def set_default_filename(self, filename):\n",
    "        self.default_filename = filename\n",
    "\n",
    "    def create_session_folder(self, path):\n",
    "        try:  \n",
    "            os.makedirs(path)\n",
    "        except OSError:  \n",
    "            print (\"Creation of the directory %s failed\" % path)\n",
    "        else:  \n",
    "            print (\"     =====> Successfully created the directory %s \\n\" % path)\n",
    "\n",
    "        try:\n",
    "            os.makedirs(path + \"models/\")\n",
    "        except OSError:  \n",
    "            print (\"Creation of the model directory failed\")\n",
    "        else:  \n",
    "            print (\"     =====> Successfully created the model directory\")\n",
    "\n",
    "\n",
    "    def log(self, text):\n",
    "        with open(self.default_filename, 'a') as f:\n",
    "            f.writelines(text)\n",
    "            f.write(\"\\n\")\n",
    "\n",
    "    def save_model(self, model, filename):\n",
    "        pickle.dump(model, open(filename, 'wb'))"
   ]
  },
  {
   "cell_type": "code",
   "execution_count": 33,
   "metadata": {},
   "outputs": [],
   "source": [
    "ratings_pivot_csr_filename = \"../data/intersect-20m/ratings.csr\"\n",
    "\n",
    "ratings_pivot = pickle.load(open(ratings_pivot_csr_filename, 'rb'))\n",
    "train, test = random_train_test_split(ratings_pivot, test_percentage=0.2)\n",
    "\n",
    "train_csr = train.tocsr()\n",
    "test_csr = test.tocsr()"
   ]
  },
  {
   "cell_type": "markdown",
   "metadata": {},
   "source": [
    "### ========== Models =========="
   ]
  },
  {
   "cell_type": "code",
   "execution_count": 34,
   "metadata": {},
   "outputs": [],
   "source": [
    "model = pickle.load(open(MODEL_PATH, 'rb'))"
   ]
  },
  {
   "cell_type": "markdown",
   "metadata": {},
   "source": [
    "### ========== Preparation =========="
   ]
  },
  {
   "cell_type": "code",
   "execution_count": 35,
   "metadata": {},
   "outputs": [],
   "source": [
    "from scipy.sparse import identity\n",
    "\n",
    "user_identity = identity(train.shape[0])\n",
    "item_identity = identity(train.shape[1])"
   ]
  },
  {
   "cell_type": "code",
   "execution_count": 36,
   "metadata": {},
   "outputs": [],
   "source": [
    "test_user, test_item = test.nonzero()"
   ]
  },
  {
   "cell_type": "markdown",
   "metadata": {},
   "source": [
    "### ========== Predict =========="
   ]
  },
  {
   "cell_type": "code",
   "execution_count": 37,
   "metadata": {},
   "outputs": [],
   "source": [
    "def get_top_suggestion(sample_user, k):\n",
    "    \n",
    "    test_item_idx = [i for i in range(0, test.shape[1])]    \n",
    "    \n",
    "    prediction = model.predict(user_ids=sample_user, item_ids=test_item_idx, user_features=user_identity, item_features=item_identity)\n",
    "    prediction = [(prediction[i], i) for i in range(0, len(prediction))]\n",
    "    prediction = sorted(prediction, reverse=True)\n",
    "    \n",
    "    return prediction[:k]\n",
    "\n",
    "\n",
    "def get_top_truth(sample_user, k):\n",
    "    \n",
    "    truth = []\n",
    "\n",
    "    user_ratings = test_csr[sample_user].todense().tolist()[0]\n",
    "    user_rated_item = test_csr[sample_user].nonzero()[1]\n",
    "    for item in user_rated_item:\n",
    "        truth.append((user_ratings[item], item))\n",
    "\n",
    "    user_ratings = train_csr[sample_user].todense().tolist()[0]\n",
    "    user_rated_item = train_csr[sample_user].nonzero()[1]\n",
    "    for item in user_rated_item:\n",
    "        truth.append((user_ratings[item], item))\n",
    "\n",
    "    truth = sorted(truth, reverse=True)\n",
    "    \n",
    "    return truth[:k]"
   ]
  },
  {
   "cell_type": "code",
   "execution_count": 38,
   "metadata": {},
   "outputs": [],
   "source": [
    "def get_intersect_pred_truth(prediction, truth, k):\n",
    "    pred_item_set = {x[1] for x in prediction[:k]}\n",
    "    truth_item_set = {x[1] for x in truth[:k]}\n",
    "    \n",
    "    return pred_item_set.intersection(truth_item_set)"
   ]
  },
  {
   "cell_type": "code",
   "execution_count": 39,
   "metadata": {},
   "outputs": [],
   "source": [
    "def check_precision_at_k(sample_user, k):\n",
    "    prediction = get_top_suggestion(sample_user, k)\n",
    "    truth = get_top_truth(sample_user, k)\n",
    "    \n",
    "    intersect = get_intersect_pred_truth(prediction, truth, k)\n",
    "    return intersect, len(intersect)/k"
   ]
  },
  {
   "cell_type": "code",
   "execution_count": 40,
   "metadata": {},
   "outputs": [
    {
     "name": "stderr",
     "output_type": "stream",
     "text": [
      "100%|██████████| 50000/50000 [27:53<00:00, 31.49it/s]\n"
     ]
    },
    {
     "data": {
      "text/plain": [
       "[0.0,\n",
       " 0.2,\n",
       " 0.0,\n",
       " 0.2,\n",
       " 0.1,\n",
       " 0.1,\n",
       " 0.2,\n",
       " 0.0,\n",
       " 0.1,\n",
       " 0.2,\n",
       " 0.0,\n",
       " 0.4,\n",
       " 0.3,\n",
       " 0.0,\n",
       " 0.1,\n",
       " 0.0,\n",
       " 0.0,\n",
       " 0.0,\n",
       " 0.1,\n",
       " 0.0,\n",
       " 0.2,\n",
       " 0.2,\n",
       " 0.1,\n",
       " 0.0,\n",
       " 0.0,\n",
       " 0.5,\n",
       " 0.0,\n",
       " 0.2,\n",
       " 0.4,\n",
       " 0.0,\n",
       " 0.0,\n",
       " 0.2,\n",
       " 0.0,\n",
       " 0.3,\n",
       " 0.1,\n",
       " 0.0,\n",
       " 0.0,\n",
       " 0.1,\n",
       " 0.0,\n",
       " 0.0,\n",
       " 0.0,\n",
       " 0.1,\n",
       " 0.1,\n",
       " 0.0,\n",
       " 0.0,\n",
       " 0.2,\n",
       " 0.2,\n",
       " 0.2,\n",
       " 0.1,\n",
       " 0.0,\n",
       " 0.1,\n",
       " 0.4,\n",
       " 0.0,\n",
       " 0.1,\n",
       " 0.0,\n",
       " 0.1,\n",
       " 0.0,\n",
       " 0.1,\n",
       " 0.2,\n",
       " 0.0,\n",
       " 0.0,\n",
       " 0.0,\n",
       " 0.1,\n",
       " 0.2,\n",
       " 0.1,\n",
       " 0.2,\n",
       " 0.0,\n",
       " 0.1,\n",
       " 0.1,\n",
       " 0.1,\n",
       " 0.1,\n",
       " 0.1,\n",
       " 0.2,\n",
       " 0.0,\n",
       " 0.0,\n",
       " 0.0,\n",
       " 0.0,\n",
       " 0.1,\n",
       " 0.1,\n",
       " 0.1,\n",
       " 0.1,\n",
       " 0.1,\n",
       " 0.1,\n",
       " 0.2,\n",
       " 0.0,\n",
       " 0.0,\n",
       " 0.1,\n",
       " 0.1,\n",
       " 0.0,\n",
       " 0.2,\n",
       " 0.1,\n",
       " 0.0,\n",
       " 0.2,\n",
       " 0.1,\n",
       " 0.0,\n",
       " 0.0,\n",
       " 0.2,\n",
       " 0.1,\n",
       " 0.1,\n",
       " 0.2,\n",
       " 0.2,\n",
       " 0.0,\n",
       " 0.0,\n",
       " 0.1,\n",
       " 0.1,\n",
       " 0.1,\n",
       " 0.0,\n",
       " 0.1,\n",
       " 0.0,\n",
       " 0.2,\n",
       " 0.1,\n",
       " 0.0,\n",
       " 0.0,\n",
       " 0.0,\n",
       " 0.1,\n",
       " 0.1,\n",
       " 0.0,\n",
       " 0.1,\n",
       " 0.2,\n",
       " 0.2,\n",
       " 0.0,\n",
       " 0.0,\n",
       " 0.0,\n",
       " 0.1,\n",
       " 0.0,\n",
       " 0.1,\n",
       " 0.1,\n",
       " 0.2,\n",
       " 0.0,\n",
       " 0.3,\n",
       " 0.0,\n",
       " 0.0,\n",
       " 0.0,\n",
       " 0.1,\n",
       " 0.1,\n",
       " 0.1,\n",
       " 0.0,\n",
       " 0.0,\n",
       " 0.0,\n",
       " 0.1,\n",
       " 0.1,\n",
       " 0.3,\n",
       " 0.0,\n",
       " 0.0,\n",
       " 0.0,\n",
       " 0.0,\n",
       " 0.0,\n",
       " 0.0,\n",
       " 0.0,\n",
       " 0.1,\n",
       " 0.0,\n",
       " 0.0,\n",
       " 0.1,\n",
       " 0.1,\n",
       " 0.1,\n",
       " 0.0,\n",
       " 0.2,\n",
       " 0.2,\n",
       " 0.2,\n",
       " 0.3,\n",
       " 0.2,\n",
       " 0.0,\n",
       " 0.1,\n",
       " 0.2,\n",
       " 0.2,\n",
       " 0.0,\n",
       " 0.0,\n",
       " 0.0,\n",
       " 0.0,\n",
       " 0.1,\n",
       " 0.3,\n",
       " 0.0,\n",
       " 0.0,\n",
       " 0.0,\n",
       " 0.1,\n",
       " 0.0,\n",
       " 0.2,\n",
       " 0.0,\n",
       " 0.0,\n",
       " 0.2,\n",
       " 0.0,\n",
       " 0.0,\n",
       " 0.3,\n",
       " 0.1,\n",
       " 0.5,\n",
       " 0.2,\n",
       " 0.4,\n",
       " 0.0,\n",
       " 0.2,\n",
       " 0.0,\n",
       " 0.1,\n",
       " 0.1,\n",
       " 0.0,\n",
       " 0.0,\n",
       " 0.1,\n",
       " 0.0,\n",
       " 0.1,\n",
       " 0.0,\n",
       " 0.1,\n",
       " 0.2,\n",
       " 0.0,\n",
       " 0.2,\n",
       " 0.0,\n",
       " 0.2,\n",
       " 0.0,\n",
       " 0.0,\n",
       " 0.0,\n",
       " 0.0,\n",
       " 0.0,\n",
       " 0.0,\n",
       " 0.0,\n",
       " 0.1,\n",
       " 0.0,\n",
       " 0.3,\n",
       " 0.0,\n",
       " 0.1,\n",
       " 0.0,\n",
       " 0.1,\n",
       " 0.0,\n",
       " 0.0,\n",
       " 0.0,\n",
       " 0.1,\n",
       " 0.0,\n",
       " 0.0,\n",
       " 0.2,\n",
       " 0.1,\n",
       " 0.1,\n",
       " 0.0,\n",
       " 0.2,\n",
       " 0.1,\n",
       " 0.3,\n",
       " 0.2,\n",
       " 0.2,\n",
       " 0.3,\n",
       " 0.1,\n",
       " 0.0,\n",
       " 0.2,\n",
       " 0.0,\n",
       " 0.2,\n",
       " 0.1,\n",
       " 0.1,\n",
       " 0.4,\n",
       " 0.5,\n",
       " 0.1,\n",
       " 0.1,\n",
       " 0.0,\n",
       " 0.2,\n",
       " 0.1,\n",
       " 0.3,\n",
       " 0.0,\n",
       " 0.0,\n",
       " 0.2,\n",
       " 0.0,\n",
       " 0.2,\n",
       " 0.1,\n",
       " 0.0,\n",
       " 0.2,\n",
       " 0.0,\n",
       " 0.4,\n",
       " 0.0,\n",
       " 0.3,\n",
       " 0.0,\n",
       " 0.1,\n",
       " 0.1,\n",
       " 0.1,\n",
       " 0.0,\n",
       " 0.1,\n",
       " 0.0,\n",
       " 0.0,\n",
       " 0.1,\n",
       " 0.0,\n",
       " 0.1,\n",
       " 0.0,\n",
       " 0.0,\n",
       " 0.1,\n",
       " 0.0,\n",
       " 0.0,\n",
       " 0.2,\n",
       " 0.0,\n",
       " 0.0,\n",
       " 0.1,\n",
       " 0.0,\n",
       " 0.2,\n",
       " 0.2,\n",
       " 0.0,\n",
       " 0.0,\n",
       " 0.0,\n",
       " 0.0,\n",
       " 0.0,\n",
       " 0.1,\n",
       " 0.2,\n",
       " 0.0,\n",
       " 0.1,\n",
       " 0.0,\n",
       " 0.2,\n",
       " 0.3,\n",
       " 0.0,\n",
       " 0.1,\n",
       " 0.0,\n",
       " 0.0,\n",
       " 0.0,\n",
       " 0.2,\n",
       " 0.1,\n",
       " 0.1,\n",
       " 0.1,\n",
       " 0.1,\n",
       " 0.0,\n",
       " 0.2,\n",
       " 0.0,\n",
       " 0.1,\n",
       " 0.1,\n",
       " 0.3,\n",
       " 0.0,\n",
       " 0.1,\n",
       " 0.2,\n",
       " 0.1,\n",
       " 0.0,\n",
       " 0.2,\n",
       " 0.3,\n",
       " 0.2,\n",
       " 0.1,\n",
       " 0.0,\n",
       " 0.0,\n",
       " 0.2,\n",
       " 0.0,\n",
       " 0.1,\n",
       " 0.2,\n",
       " 0.3,\n",
       " 0.3,\n",
       " 0.3,\n",
       " 0.2,\n",
       " 0.0,\n",
       " 0.3,\n",
       " 0.1,\n",
       " 0.1,\n",
       " 0.1,\n",
       " 0.1,\n",
       " 0.0,\n",
       " 0.0,\n",
       " 0.0,\n",
       " 0.0,\n",
       " 0.0,\n",
       " 0.1,\n",
       " 0.1,\n",
       " 0.0,\n",
       " 0.1,\n",
       " 0.1,\n",
       " 0.0,\n",
       " 0.1,\n",
       " 0.0,\n",
       " 0.0,\n",
       " 0.3,\n",
       " 0.0,\n",
       " 0.1,\n",
       " 0.1,\n",
       " 0.2,\n",
       " 0.1,\n",
       " 0.0,\n",
       " 0.3,\n",
       " 0.1,\n",
       " 0.1,\n",
       " 0.2,\n",
       " 0.1,\n",
       " 0.0,\n",
       " 0.2,\n",
       " 0.2,\n",
       " 0.0,\n",
       " 0.5,\n",
       " 0.1,\n",
       " 0.1,\n",
       " 0.0,\n",
       " 0.1,\n",
       " 0.0,\n",
       " 0.1,\n",
       " 0.0,\n",
       " 0.1,\n",
       " 0.2,\n",
       " 0.2,\n",
       " 0.0,\n",
       " 0.1,\n",
       " 0.4,\n",
       " 0.0,\n",
       " 0.1,\n",
       " 0.0,\n",
       " 0.2,\n",
       " 0.0,\n",
       " 0.0,\n",
       " 0.1,\n",
       " 0.2,\n",
       " 0.0,\n",
       " 0.2,\n",
       " 0.1,\n",
       " 0.3,\n",
       " 0.0,\n",
       " 0.0,\n",
       " 0.0,\n",
       " 0.1,\n",
       " 0.0,\n",
       " 0.2,\n",
       " 0.2,\n",
       " 0.2,\n",
       " 0.0,\n",
       " 0.1,\n",
       " 0.0,\n",
       " 0.0,\n",
       " 0.0,\n",
       " 0.0,\n",
       " 0.0,\n",
       " 0.1,\n",
       " 0.0,\n",
       " 0.0,\n",
       " 0.1,\n",
       " 0.0,\n",
       " 0.4,\n",
       " 0.2,\n",
       " 0.0,\n",
       " 0.0,\n",
       " 0.1,\n",
       " 0.0,\n",
       " 0.0,\n",
       " 0.0,\n",
       " 0.0,\n",
       " 0.1,\n",
       " 0.0,\n",
       " 0.0,\n",
       " 0.2,\n",
       " 0.0,\n",
       " 0.1,\n",
       " 0.0,\n",
       " 0.1,\n",
       " 0.1,\n",
       " 0.5,\n",
       " 0.2,\n",
       " 0.0,\n",
       " 0.4,\n",
       " 0.0,\n",
       " 0.4,\n",
       " 0.0,\n",
       " 0.0,\n",
       " 0.3,\n",
       " 0.2,\n",
       " 0.1,\n",
       " 0.1,\n",
       " 0.5,\n",
       " 0.0,\n",
       " 0.2,\n",
       " 0.1,\n",
       " 0.0,\n",
       " 0.0,\n",
       " 0.2,\n",
       " 0.1,\n",
       " 0.1,\n",
       " 0.2,\n",
       " 0.0,\n",
       " 0.0,\n",
       " 0.1,\n",
       " 0.0,\n",
       " 0.1,\n",
       " 0.1,\n",
       " 0.0,\n",
       " 0.3,\n",
       " 0.0,\n",
       " 0.1,\n",
       " 0.0,\n",
       " 0.0,\n",
       " 0.1,\n",
       " 0.0,\n",
       " 0.0,\n",
       " 0.0,\n",
       " 0.0,\n",
       " 0.1,\n",
       " 0.1,\n",
       " 0.1,\n",
       " 0.3,\n",
       " 0.2,\n",
       " 0.1,\n",
       " 0.0,\n",
       " 0.0,\n",
       " 0.1,\n",
       " 0.0,\n",
       " 0.3,\n",
       " 0.2,\n",
       " 0.2,\n",
       " 0.0,\n",
       " 0.1,\n",
       " 0.0,\n",
       " 0.0,\n",
       " 0.1,\n",
       " 0.2,\n",
       " 0.0,\n",
       " 0.1,\n",
       " 0.0,\n",
       " 0.0,\n",
       " 0.0,\n",
       " 0.3,\n",
       " 0.2,\n",
       " 0.1,\n",
       " 0.0,\n",
       " 0.0,\n",
       " 0.0,\n",
       " 0.1,\n",
       " 0.0,\n",
       " 0.0,\n",
       " 0.0,\n",
       " 0.1,\n",
       " 0.1,\n",
       " 0.0,\n",
       " 0.1,\n",
       " 0.1,\n",
       " 0.1,\n",
       " 0.0,\n",
       " 0.0,\n",
       " 0.0,\n",
       " 0.0,\n",
       " 0.3,\n",
       " 0.2,\n",
       " 0.0,\n",
       " 0.0,\n",
       " 0.1,\n",
       " 0.1,\n",
       " 0.2,\n",
       " 0.0,\n",
       " 0.0,\n",
       " 0.1,\n",
       " 0.0,\n",
       " 0.2,\n",
       " 0.0,\n",
       " 0.0,\n",
       " 0.0,\n",
       " 0.0,\n",
       " 0.0,\n",
       " 0.1,\n",
       " 0.3,\n",
       " 0.0,\n",
       " 0.0,\n",
       " 0.3,\n",
       " 0.0,\n",
       " 0.1,\n",
       " 0.2,\n",
       " 0.1,\n",
       " 0.0,\n",
       " 0.4,\n",
       " 0.0,\n",
       " 0.1,\n",
       " 0.1,\n",
       " 0.2,\n",
       " 0.2,\n",
       " 0.0,\n",
       " 0.1,\n",
       " 0.2,\n",
       " 0.0,\n",
       " 0.0,\n",
       " 0.0,\n",
       " 0.0,\n",
       " 0.2,\n",
       " 0.0,\n",
       " 0.0,\n",
       " 0.1,\n",
       " 0.0,\n",
       " 0.3,\n",
       " 0.0,\n",
       " 0.0,\n",
       " 0.1,\n",
       " 0.0,\n",
       " 0.0,\n",
       " 0.1,\n",
       " 0.2,\n",
       " 0.2,\n",
       " 0.2,\n",
       " 0.1,\n",
       " 0.1,\n",
       " 0.1,\n",
       " 0.0,\n",
       " 0.0,\n",
       " 0.1,\n",
       " 0.1,\n",
       " 0.1,\n",
       " 0.1,\n",
       " 0.2,\n",
       " 0.1,\n",
       " 0.1,\n",
       " 0.0,\n",
       " 0.1,\n",
       " 0.2,\n",
       " 0.1,\n",
       " 0.2,\n",
       " 0.2,\n",
       " 0.0,\n",
       " 0.3,\n",
       " 0.1,\n",
       " 0.3,\n",
       " 0.1,\n",
       " 0.1,\n",
       " 0.0,\n",
       " 0.0,\n",
       " 0.0,\n",
       " 0.0,\n",
       " 0.0,\n",
       " 0.0,\n",
       " 0.1,\n",
       " 0.1,\n",
       " 0.1,\n",
       " 0.0,\n",
       " 0.0,\n",
       " 0.1,\n",
       " 0.0,\n",
       " 0.2,\n",
       " 0.0,\n",
       " 0.1,\n",
       " 0.1,\n",
       " 0.1,\n",
       " 0.0,\n",
       " 0.0,\n",
       " 0.0,\n",
       " 0.0,\n",
       " 0.1,\n",
       " 0.1,\n",
       " 0.3,\n",
       " 0.1,\n",
       " 0.0,\n",
       " 0.0,\n",
       " 0.0,\n",
       " 0.4,\n",
       " 0.1,\n",
       " 0.0,\n",
       " 0.0,\n",
       " 0.0,\n",
       " 0.0,\n",
       " 0.0,\n",
       " 0.1,\n",
       " 0.1,\n",
       " 0.0,\n",
       " 0.2,\n",
       " 0.0,\n",
       " 0.1,\n",
       " 0.1,\n",
       " 0.3,\n",
       " 0.0,\n",
       " 0.2,\n",
       " 0.1,\n",
       " 0.0,\n",
       " 0.5,\n",
       " 0.1,\n",
       " 0.0,\n",
       " 0.1,\n",
       " 0.0,\n",
       " 0.0,\n",
       " 0.1,\n",
       " 0.0,\n",
       " 0.1,\n",
       " 0.2,\n",
       " 0.0,\n",
       " 0.1,\n",
       " 0.0,\n",
       " 0.2,\n",
       " 0.3,\n",
       " 0.0,\n",
       " 0.2,\n",
       " 0.1,\n",
       " 0.2,\n",
       " 0.2,\n",
       " 0.2,\n",
       " 0.1,\n",
       " 0.1,\n",
       " 0.1,\n",
       " 0.2,\n",
       " 0.0,\n",
       " 0.1,\n",
       " 0.1,\n",
       " 0.0,\n",
       " 0.1,\n",
       " 0.0,\n",
       " 0.0,\n",
       " 0.0,\n",
       " 0.0,\n",
       " 0.1,\n",
       " 0.2,\n",
       " 0.1,\n",
       " 0.1,\n",
       " 0.1,\n",
       " 0.0,\n",
       " 0.0,\n",
       " 0.3,\n",
       " 0.6,\n",
       " 0.4,\n",
       " 0.1,\n",
       " 0.1,\n",
       " 0.1,\n",
       " 0.1,\n",
       " 0.1,\n",
       " 0.0,\n",
       " 0.0,\n",
       " 0.0,\n",
       " 0.0,\n",
       " 0.3,\n",
       " 0.0,\n",
       " 0.1,\n",
       " 0.1,\n",
       " 0.1,\n",
       " 0.2,\n",
       " 0.2,\n",
       " 0.0,\n",
       " 0.0,\n",
       " 0.1,\n",
       " 0.4,\n",
       " 0.1,\n",
       " 0.0,\n",
       " 0.0,\n",
       " 0.0,\n",
       " 0.0,\n",
       " 0.1,\n",
       " 0.0,\n",
       " 0.1,\n",
       " 0.0,\n",
       " 0.3,\n",
       " 0.0,\n",
       " 0.0,\n",
       " 0.0,\n",
       " 0.2,\n",
       " 0.1,\n",
       " 0.2,\n",
       " 0.2,\n",
       " 0.0,\n",
       " 0.1,\n",
       " 0.2,\n",
       " 0.1,\n",
       " 0.0,\n",
       " 0.4,\n",
       " 0.0,\n",
       " 0.1,\n",
       " 0.0,\n",
       " 0.1,\n",
       " 0.2,\n",
       " 0.0,\n",
       " 0.1,\n",
       " 0.2,\n",
       " 0.0,\n",
       " 0.2,\n",
       " 0.2,\n",
       " 0.2,\n",
       " 0.0,\n",
       " 0.3,\n",
       " 0.1,\n",
       " 0.1,\n",
       " 0.1,\n",
       " 0.1,\n",
       " 0.0,\n",
       " 0.0,\n",
       " 0.1,\n",
       " 0.4,\n",
       " 0.3,\n",
       " 0.2,\n",
       " 0.0,\n",
       " 0.1,\n",
       " 0.3,\n",
       " 0.1,\n",
       " 0.2,\n",
       " 0.1,\n",
       " 0.0,\n",
       " 0.3,\n",
       " 0.2,\n",
       " 0.0,\n",
       " 0.3,\n",
       " 0.0,\n",
       " 0.0,\n",
       " 0.4,\n",
       " 0.3,\n",
       " 0.1,\n",
       " 0.2,\n",
       " 0.0,\n",
       " 0.1,\n",
       " 0.0,\n",
       " 0.3,\n",
       " 0.1,\n",
       " 0.0,\n",
       " 0.0,\n",
       " 0.1,\n",
       " 0.0,\n",
       " 0.0,\n",
       " 0.0,\n",
       " 0.0,\n",
       " 0.1,\n",
       " 0.1,\n",
       " 0.0,\n",
       " 0.2,\n",
       " 0.0,\n",
       " 0.0,\n",
       " 0.1,\n",
       " 0.0,\n",
       " 0.2,\n",
       " 0.0,\n",
       " 0.0,\n",
       " 0.0,\n",
       " 0.1,\n",
       " 0.3,\n",
       " 0.3,\n",
       " 0.1,\n",
       " 0.0,\n",
       " 0.1,\n",
       " 0.1,\n",
       " 0.2,\n",
       " 0.1,\n",
       " 0.0,\n",
       " 0.1,\n",
       " 0.3,\n",
       " 0.0,\n",
       " 0.1,\n",
       " 0.1,\n",
       " 0.1,\n",
       " 0.0,\n",
       " 0.1,\n",
       " 0.0,\n",
       " 0.1,\n",
       " 0.2,\n",
       " 0.0,\n",
       " 0.3,\n",
       " 0.1,\n",
       " 0.2,\n",
       " 0.0,\n",
       " 0.0,\n",
       " 0.1,\n",
       " 0.1,\n",
       " 0.1,\n",
       " 0.0,\n",
       " 0.0,\n",
       " 0.1,\n",
       " 0.1,\n",
       " 0.0,\n",
       " 0.1,\n",
       " 0.1,\n",
       " 0.0,\n",
       " 0.0,\n",
       " 0.1,\n",
       " 0.0,\n",
       " 0.0,\n",
       " 0.0,\n",
       " 0.0,\n",
       " 0.1,\n",
       " 0.2,\n",
       " 0.6,\n",
       " 0.2,\n",
       " 0.2,\n",
       " 0.0,\n",
       " 0.0,\n",
       " 0.1,\n",
       " 0.1,\n",
       " 0.0,\n",
       " 0.1,\n",
       " 0.1,\n",
       " 0.1,\n",
       " 0.1,\n",
       " 0.1,\n",
       " 0.2,\n",
       " 0.1,\n",
       " 0.0,\n",
       " 0.0,\n",
       " 0.4,\n",
       " 0.0,\n",
       " 0.3,\n",
       " 0.1,\n",
       " 0.0,\n",
       " 0.0,\n",
       " 0.0,\n",
       " 0.1,\n",
       " 0.0,\n",
       " 0.0,\n",
       " 0.0,\n",
       " 0.1,\n",
       " 0.2,\n",
       " 0.1,\n",
       " 0.3,\n",
       " 0.1,\n",
       " 0.0,\n",
       " 0.0,\n",
       " 0.2,\n",
       " 0.0,\n",
       " 0.1,\n",
       " 0.2,\n",
       " 0.1,\n",
       " 0.0,\n",
       " 0.0,\n",
       " 0.3,\n",
       " 0.0,\n",
       " 0.0,\n",
       " 0.1,\n",
       " 0.0,\n",
       " 0.0,\n",
       " 0.1,\n",
       " 0.1,\n",
       " 0.2,\n",
       " 0.0,\n",
       " 0.1,\n",
       " 0.0,\n",
       " 0.1,\n",
       " 0.0,\n",
       " 0.0,\n",
       " 0.0,\n",
       " 0.1,\n",
       " 0.0,\n",
       " 0.0,\n",
       " 0.0,\n",
       " 0.2,\n",
       " 0.0,\n",
       " 0.2,\n",
       " 0.0,\n",
       " 0.0,\n",
       " 0.1,\n",
       " 0.4,\n",
       " 0.0,\n",
       " 0.1,\n",
       " 0.2,\n",
       " 0.0,\n",
       " 0.1,\n",
       " 0.1,\n",
       " 0.0,\n",
       " 0.4,\n",
       " 0.0,\n",
       " 0.1,\n",
       " 0.1,\n",
       " 0.5,\n",
       " 0.0,\n",
       " 0.0,\n",
       " 0.0,\n",
       " 0.1,\n",
       " 0.3,\n",
       " 0.2,\n",
       " 0.0,\n",
       " 0.2,\n",
       " 0.0,\n",
       " 0.1,\n",
       " 0.0,\n",
       " 0.0,\n",
       " 0.1,\n",
       " 0.3,\n",
       " 0.0,\n",
       " 0.1,\n",
       " 0.0,\n",
       " 0.0,\n",
       " 0.5,\n",
       " 0.0,\n",
       " 0.1,\n",
       " 0.2,\n",
       " 0.1,\n",
       " 0.1,\n",
       " 0.2,\n",
       " 0.0,\n",
       " 0.0,\n",
       " 0.0,\n",
       " 0.1,\n",
       " 0.0,\n",
       " 0.1,\n",
       " 0.2,\n",
       " 0.2,\n",
       " 0.2,\n",
       " 0.1,\n",
       " 0.3,\n",
       " 0.0,\n",
       " 0.0,\n",
       " 0.1,\n",
       " 0.2,\n",
       " 0.0,\n",
       " 0.0,\n",
       " 0.2,\n",
       " 0.0,\n",
       " 0.2,\n",
       " 0.1,\n",
       " 0.2,\n",
       " 0.0,\n",
       " 0.0,\n",
       " 0.1,\n",
       " 0.1,\n",
       " 0.2,\n",
       " 0.0,\n",
       " 0.3,\n",
       " 0.2,\n",
       " 0.0,\n",
       " 0.1,\n",
       " 0.0,\n",
       " 0.0,\n",
       " 0.3,\n",
       " 0.2,\n",
       " 0.1,\n",
       " 0.0,\n",
       " 0.2,\n",
       " 0.0,\n",
       " 0.2,\n",
       " 0.2,\n",
       " 0.1,\n",
       " 0.1,\n",
       " 0.0,\n",
       " 0.0,\n",
       " 0.1,\n",
       " 0.0,\n",
       " 0.0,\n",
       " 0.0,\n",
       " 0.0,\n",
       " 0.0,\n",
       " 0.1,\n",
       " 0.1,\n",
       " 0.0,\n",
       " ...]"
      ]
     },
     "execution_count": 40,
     "metadata": {},
     "output_type": "execute_result"
    }
   ],
   "source": [
    "from tqdm import tqdm\n",
    "\n",
    "prec_with_train = []\n",
    "for i in tqdm(range(0, 50000)):\n",
    "    _, p = check_precision_at_k(i, 10)\n",
    "    prec_with_train.append(p)"
   ]
  },
  {
   "cell_type": "code",
   "execution_count": 41,
   "metadata": {},
   "outputs": [],
   "source": [
    "import numpy as np"
   ]
  },
  {
   "cell_type": "code",
   "execution_count": 42,
   "metadata": {},
   "outputs": [
    {
     "data": {
      "text/plain": [
       "0.09678600000000002"
      ]
     },
     "execution_count": 42,
     "metadata": {},
     "output_type": "execute_result"
    }
   ],
   "source": [
    "np.average(prec_with_train)"
   ]
  },
  {
   "cell_type": "markdown",
   "metadata": {},
   "source": [
    "## Check diversity"
   ]
  },
  {
   "cell_type": "code",
   "execution_count": 43,
   "metadata": {},
   "outputs": [
    {
     "data": {
      "text/plain": [
       "[(-0.2902214825153351, 10659),\n",
       " (-0.2934703528881073, 5058),\n",
       " (-0.4574028253555298, 7304),\n",
       " (-0.8620789647102356, 2073),\n",
       " (-0.9118945598602295, 13122),\n",
       " (-0.9250181317329407, 14025),\n",
       " (-0.9255124926567078, 6825),\n",
       " (-0.9265106916427612, 11536),\n",
       " (-0.9295519590377808, 1321),\n",
       " (-0.9298442602157593, 911)]"
      ]
     },
     "execution_count": 43,
     "metadata": {},
     "output_type": "execute_result"
    }
   ],
   "source": [
    "get_top_suggestion(188, k=10)"
   ]
  },
  {
   "cell_type": "code",
   "execution_count": 44,
   "metadata": {},
   "outputs": [
    {
     "name": "stdout",
     "output_type": "stream",
     "text": [
      "[676, 911, 2073, 5058, 6825, 7304, 10659, 11536, 13122, 14025]\n",
      "[676, 911, 2073, 5058, 6825, 7304, 10659, 11536, 13122, 14025]\n",
      "[911, 2073, 3663, 5058, 6825, 7304, 10659, 11536, 13122, 14025]\n",
      "[676, 911, 2073, 5058, 6825, 7304, 10659, 11536, 13122, 14025]\n",
      "[911, 1321, 2073, 5058, 6825, 7304, 10659, 11536, 13122, 14025]\n",
      "[676, 911, 2073, 5058, 6825, 7304, 10659, 11536, 13122, 14025]\n",
      "[676, 911, 2073, 5058, 6825, 7304, 10659, 11536, 13122, 14025]\n",
      "[676, 911, 2073, 5058, 6825, 7304, 10659, 11536, 13122, 14025]\n",
      "[676, 911, 2073, 5058, 6825, 7304, 10659, 11536, 13122, 14025]\n",
      "\n",
      "intersect\n",
      "{5058, 10659, 13122, 7304, 14025, 6825, 911, 11536, 2073} 9\n",
      "\n",
      "union\n",
      "{5058, 13122, 7304, 14025, 911, 11536, 3663, 2073, 10659, 676, 6825, 1321} 12\n",
      "\n",
      "distinct rate\n",
      "0.12\n"
     ]
    }
   ],
   "source": [
    "offset = 0 # discard top n suggestion\n",
    "k = 10\n",
    "\n",
    "sample_user = [np.random.randint(0, 138493) for i in range(0, k)]\n",
    "\n",
    "intersect = {x[1] for x in get_top_suggestion(sample_user[0], k + offset)[offset:]}\n",
    "uni = intersect\n",
    "for i in range(1, 10):\n",
    "    s = {x[1] for x in get_top_suggestion(sample_user[i], k + offset)[offset:]}\n",
    "    print(sorted(s))\n",
    "    intersect = intersect.intersection(s)\n",
    "    uni = uni.union(s)\n",
    "    \n",
    "print(\"\\nintersect\")\n",
    "print(intersect, len(intersect))\n",
    "print(\"\\nunion\")\n",
    "print(uni, len(uni))\n",
    "print(\"\\ndistinct rate\")\n",
    "print((len(uni)) / (10*k))"
   ]
  },
  {
   "cell_type": "markdown",
   "metadata": {},
   "source": [
    "# ==================="
   ]
  },
  {
   "cell_type": "code",
   "execution_count": 45,
   "metadata": {},
   "outputs": [],
   "source": [
    "# sample_user = [32, 1949, 1128, 4321, 7828, 8242, 2119, 1827, 6240, 12282]\n",
    "sample_user = [np.random.randint(0, 138493) for i in range(0, 10)]\n",
    "# offset = int(138493 * 0.9)\n",
    "offset = 0\n",
    "sample_user = [i + offset for i in sample_user]"
   ]
  },
  {
   "cell_type": "code",
   "execution_count": 46,
   "metadata": {},
   "outputs": [
    {
     "data": {
      "text/plain": [
       "[10659, 5058, 7304, 2073, 13122, 14025, 6825, 11536, 911, 676]"
      ]
     },
     "metadata": {},
     "output_type": "display_data"
    },
    {
     "data": {
      "text/plain": [
       "[13122, 11314, 8688, 6825, 6167, 4601, 616, 15187, 15182, 14319]"
      ]
     },
     "metadata": {},
     "output_type": "display_data"
    },
    {
     "data": {
      "text/plain": [
       "({6825, 13122}, 0.2)"
      ]
     },
     "metadata": {},
     "output_type": "display_data"
    },
    {
     "data": {
      "text/plain": [
       "'=================='"
      ]
     },
     "metadata": {},
     "output_type": "display_data"
    },
    {
     "data": {
      "text/plain": [
       "[10659, 5058, 7304, 2073, 13122, 6825, 14025, 11536, 676, 1321]"
      ]
     },
     "metadata": {},
     "output_type": "display_data"
    },
    {
     "data": {
      "text/plain": [
       "[10796, 1168, 14162, 2506, 12342, 11661, 11239, 8688, 8672, 6835]"
      ]
     },
     "metadata": {},
     "output_type": "display_data"
    },
    {
     "data": {
      "text/plain": [
       "(set(), 0.0)"
      ]
     },
     "metadata": {},
     "output_type": "display_data"
    },
    {
     "data": {
      "text/plain": [
       "'=================='"
      ]
     },
     "metadata": {},
     "output_type": "display_data"
    },
    {
     "data": {
      "text/plain": [
       "[10659, 5058, 7304, 2073, 13122, 14025, 6825, 11536, 676, 911]"
      ]
     },
     "metadata": {},
     "output_type": "display_data"
    },
    {
     "data": {
      "text/plain": [
       "[11677, 11536, 10659, 9371, 4260, 14164, 13122, 12645, 12342, 11762]"
      ]
     },
     "metadata": {},
     "output_type": "display_data"
    },
    {
     "data": {
      "text/plain": [
       "({10659, 11536, 13122}, 0.3)"
      ]
     },
     "metadata": {},
     "output_type": "display_data"
    },
    {
     "data": {
      "text/plain": [
       "'=================='"
      ]
     },
     "metadata": {},
     "output_type": "display_data"
    },
    {
     "data": {
      "text/plain": [
       "[10659, 5058, 7304, 2073, 13122, 14025, 6825, 11536, 911, 676]"
      ]
     },
     "metadata": {},
     "output_type": "display_data"
    },
    {
     "data": {
      "text/plain": [
       "[11648, 11536, 9113, 5086, 4687, 2073, 14162, 13766, 11743, 11088]"
      ]
     },
     "metadata": {},
     "output_type": "display_data"
    },
    {
     "data": {
      "text/plain": [
       "({2073, 11536}, 0.2)"
      ]
     },
     "metadata": {},
     "output_type": "display_data"
    },
    {
     "data": {
      "text/plain": [
       "'=================='"
      ]
     },
     "metadata": {},
     "output_type": "display_data"
    },
    {
     "data": {
      "text/plain": [
       "[3663, 10659, 5058, 7304, 2073, 13122, 6825, 14025, 11536, 911]"
      ]
     },
     "metadata": {},
     "output_type": "display_data"
    },
    {
     "data": {
      "text/plain": [
       "[10659, 9371, 2073, 14920, 10750, 10545, 10002, 9104, 5058, 3401]"
      ]
     },
     "metadata": {},
     "output_type": "display_data"
    },
    {
     "data": {
      "text/plain": [
       "({2073, 5058, 10659}, 0.3)"
      ]
     },
     "metadata": {},
     "output_type": "display_data"
    },
    {
     "data": {
      "text/plain": [
       "'=================='"
      ]
     },
     "metadata": {},
     "output_type": "display_data"
    },
    {
     "data": {
      "text/plain": [
       "[10659, 5058, 7304, 2073, 13122, 14025, 6825, 11536, 676, 911]"
      ]
     },
     "metadata": {},
     "output_type": "display_data"
    },
    {
     "data": {
      "text/plain": [
       "[14544, 14048, 11966, 11903, 11871, 11519, 11006, 10659, 9823, 8962]"
      ]
     },
     "metadata": {},
     "output_type": "display_data"
    },
    {
     "data": {
      "text/plain": [
       "({10659}, 0.1)"
      ]
     },
     "metadata": {},
     "output_type": "display_data"
    },
    {
     "data": {
      "text/plain": [
       "'=================='"
      ]
     },
     "metadata": {},
     "output_type": "display_data"
    },
    {
     "data": {
      "text/plain": [
       "[10659, 5058, 7304, 2073, 13122, 14025, 6825, 11536, 676, 911]"
      ]
     },
     "metadata": {},
     "output_type": "display_data"
    },
    {
     "data": {
      "text/plain": [
       "[14007, 13122, 11006, 11002, 10924, 10659, 9371, 7631, 7552, 7434]"
      ]
     },
     "metadata": {},
     "output_type": "display_data"
    },
    {
     "data": {
      "text/plain": [
       "({10659, 13122}, 0.2)"
      ]
     },
     "metadata": {},
     "output_type": "display_data"
    },
    {
     "data": {
      "text/plain": [
       "'=================='"
      ]
     },
     "metadata": {},
     "output_type": "display_data"
    },
    {
     "data": {
      "text/plain": [
       "[10659, 5058, 7304, 2073, 13122, 14025, 6825, 11536, 911, 676]"
      ]
     },
     "metadata": {},
     "output_type": "display_data"
    },
    {
     "data": {
      "text/plain": [
       "[10659, 15410, 14705, 11006, 10396, 10371, 9326, 8962, 8959, 7541]"
      ]
     },
     "metadata": {},
     "output_type": "display_data"
    },
    {
     "data": {
      "text/plain": [
       "({10659}, 0.1)"
      ]
     },
     "metadata": {},
     "output_type": "display_data"
    },
    {
     "data": {
      "text/plain": [
       "'=================='"
      ]
     },
     "metadata": {},
     "output_type": "display_data"
    },
    {
     "data": {
      "text/plain": [
       "[12378, 10659, 5058, 7304, 2073, 3594, 13122, 6825, 14025, 11536]"
      ]
     },
     "metadata": {},
     "output_type": "display_data"
    },
    {
     "data": {
      "text/plain": [
       "[15075, 14025, 9066, 8584, 6298, 4716, 18, 14231, 11363, 6825]"
      ]
     },
     "metadata": {},
     "output_type": "display_data"
    },
    {
     "data": {
      "text/plain": [
       "({6825, 14025}, 0.2)"
      ]
     },
     "metadata": {},
     "output_type": "display_data"
    },
    {
     "data": {
      "text/plain": [
       "'=================='"
      ]
     },
     "metadata": {},
     "output_type": "display_data"
    },
    {
     "data": {
      "text/plain": [
       "[10659, 5058, 7304, 2073, 13122, 14025, 6825, 11536, 1321, 911]"
      ]
     },
     "metadata": {},
     "output_type": "display_data"
    },
    {
     "data": {
      "text/plain": [
       "[9066, 7304, 5058, 911, 15140, 14920, 14719, 12475, 12072, 10545]"
      ]
     },
     "metadata": {},
     "output_type": "display_data"
    },
    {
     "data": {
      "text/plain": [
       "({911, 5058, 7304}, 0.3)"
      ]
     },
     "metadata": {},
     "output_type": "display_data"
    },
    {
     "data": {
      "text/plain": [
       "'=================='"
      ]
     },
     "metadata": {},
     "output_type": "display_data"
    }
   ],
   "source": [
    "for user in sample_user:\n",
    "    prediction = get_top_suggestion(user, 10)\n",
    "    prediction = [x[1] for x in prediction]\n",
    "    \n",
    "    truth = get_top_truth(user, 10)\n",
    "    truth = [x[1] for x in truth]\n",
    "    \n",
    "    display((prediction))\n",
    "    display((truth))\n",
    "    display(check_precision_at_k(user, 10))\n",
    "    display(\"==================\")"
   ]
  },
  {
   "cell_type": "code",
   "execution_count": null,
   "metadata": {},
   "outputs": [],
   "source": []
  }
 ],
 "metadata": {
  "kernelspec": {
   "display_name": "Python 3",
   "language": "python",
   "name": "python3"
  },
  "language_info": {
   "codemirror_mode": {
    "name": "ipython",
    "version": 3
   },
   "file_extension": ".py",
   "mimetype": "text/x-python",
   "name": "python",
   "nbconvert_exporter": "python",
   "pygments_lexer": "ipython3",
   "version": "3.5.2"
  }
 },
 "nbformat": 4,
 "nbformat_minor": 2
}
