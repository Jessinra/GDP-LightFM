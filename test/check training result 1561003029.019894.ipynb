{
 "cells": [
  {
   "cell_type": "markdown",
   "metadata": {},
   "source": [
    "# Testing LightFM"
   ]
  },
  {
   "cell_type": "code",
   "execution_count": 1,
   "metadata": {},
   "outputs": [],
   "source": [
    "TEST_CODE = \"1561003029.019894\"\n",
    "CHOSEN_EPOCH = 600\n",
    "\n",
    "MODEL_PATH = \"../log/{}/models/epoch_{}\".format(TEST_CODE, CHOSEN_EPOCH)\n",
    "LOG_PATH = \"../log/{}/log.txt\".format(TEST_CODE)"
   ]
  },
  {
   "cell_type": "code",
   "execution_count": 2,
   "metadata": {},
   "outputs": [],
   "source": [
    "import pickle\n",
    "\n",
    "from datetime import datetime\n",
    "\n",
    "from tqdm import tqdm\n",
    "from sklearn.model_selection import train_test_split\n",
    "\n",
    "from lightfm import LightFM\n",
    "from lightfm.cross_validation import random_train_test_split\n",
    "from lightfm.evaluation import precision_at_k"
   ]
  },
  {
   "cell_type": "code",
   "execution_count": 3,
   "metadata": {},
   "outputs": [],
   "source": [
    "import pickle\n",
    "import os\n",
    "\n",
    "class Logger:\n",
    "\n",
    "    def set_default_filename(self, filename):\n",
    "        self.default_filename = filename\n",
    "\n",
    "    def create_session_folder(self, path):\n",
    "        try:  \n",
    "            os.makedirs(path)\n",
    "        except OSError:  \n",
    "            print (\"Creation of the directory %s failed\" % path)\n",
    "        else:  \n",
    "            print (\"     =====> Successfully created the directory %s \\n\" % path)\n",
    "\n",
    "        try:\n",
    "            os.makedirs(path + \"models/\")\n",
    "        except OSError:  \n",
    "            print (\"Creation of the model directory failed\")\n",
    "        else:  \n",
    "            print (\"     =====> Successfully created the model directory\")\n",
    "\n",
    "\n",
    "    def log(self, text):\n",
    "        with open(self.default_filename, 'a') as f:\n",
    "            f.writelines(text)\n",
    "            f.write(\"\\n\")\n",
    "\n",
    "    def save_model(self, model, filename):\n",
    "        pickle.dump(model, open(filename, 'wb'))"
   ]
  },
  {
   "cell_type": "code",
   "execution_count": 4,
   "metadata": {},
   "outputs": [],
   "source": [
    "ratings_pivot_csr_filename = \"../data/intersect-20m/ratings.csr\"\n",
    "\n",
    "ratings_pivot = pickle.load(open(ratings_pivot_csr_filename, 'rb'))\n",
    "train, test = random_train_test_split(ratings_pivot, test_percentage=0.2)\n",
    "\n",
    "train_csr = train.tocsr()\n",
    "test_csr = test.tocsr()"
   ]
  },
  {
   "cell_type": "markdown",
   "metadata": {},
   "source": [
    "### ========== Models =========="
   ]
  },
  {
   "cell_type": "code",
   "execution_count": 5,
   "metadata": {},
   "outputs": [],
   "source": [
    "model = pickle.load(open(MODEL_PATH, 'rb'))"
   ]
  },
  {
   "cell_type": "markdown",
   "metadata": {},
   "source": [
    "### ========== Preparation =========="
   ]
  },
  {
   "cell_type": "code",
   "execution_count": 6,
   "metadata": {},
   "outputs": [],
   "source": [
    "from scipy.sparse import identity\n",
    "\n",
    "user_identity = identity(train.shape[0])\n",
    "item_identity = identity(train.shape[1])"
   ]
  },
  {
   "cell_type": "code",
   "execution_count": 7,
   "metadata": {},
   "outputs": [],
   "source": [
    "test_user, test_item = test.nonzero()"
   ]
  },
  {
   "cell_type": "markdown",
   "metadata": {},
   "source": [
    "### ========== Predict =========="
   ]
  },
  {
   "cell_type": "code",
   "execution_count": 8,
   "metadata": {},
   "outputs": [],
   "source": [
    "def get_top_suggestion(sample_user, k):\n",
    "    \n",
    "    test_item_idx = [i for i in range(0, test.shape[1])]    \n",
    "    \n",
    "    prediction = model.predict(user_ids=sample_user, item_ids=test_item_idx, user_features=user_identity, item_features=item_identity)\n",
    "    prediction = [(prediction[i], i) for i in range(0, len(prediction))]\n",
    "    prediction = sorted(prediction, reverse=True)\n",
    "    \n",
    "    return prediction[:k]\n",
    "\n",
    "\n",
    "def get_top_truth(sample_user, k):\n",
    "    \n",
    "    truth = []\n",
    "\n",
    "    user_ratings = test_csr[sample_user].todense().tolist()[0]\n",
    "    user_rated_item = test_csr[sample_user].nonzero()[1]\n",
    "    for item in user_rated_item:\n",
    "        truth.append((user_ratings[item], item))\n",
    "\n",
    "    user_ratings = train_csr[sample_user].todense().tolist()[0]\n",
    "    user_rated_item = train_csr[sample_user].nonzero()[1]\n",
    "    for item in user_rated_item:\n",
    "        truth.append((user_ratings[item], item))\n",
    "\n",
    "    truth = sorted(truth, reverse=True)\n",
    "    \n",
    "    return truth[:k]"
   ]
  },
  {
   "cell_type": "code",
   "execution_count": 9,
   "metadata": {},
   "outputs": [],
   "source": [
    "def get_intersect_pred_truth(prediction, truth, k):\n",
    "    pred_item_set = {x[1] for x in prediction[:k]}\n",
    "    truth_item_set = {x[1] for x in truth[:k]}\n",
    "    \n",
    "    return pred_item_set.intersection(truth_item_set)"
   ]
  },
  {
   "cell_type": "code",
   "execution_count": 10,
   "metadata": {},
   "outputs": [],
   "source": [
    "def check_precision_at_k(sample_user, k):\n",
    "    prediction = get_top_suggestion(sample_user, k)\n",
    "    truth = get_top_truth(sample_user, k)\n",
    "    \n",
    "    intersect = get_intersect_pred_truth(prediction, truth, k)\n",
    "    return intersect, len(intersect)/k"
   ]
  },
  {
   "cell_type": "code",
   "execution_count": 11,
   "metadata": {},
   "outputs": [
    {
     "name": "stderr",
     "output_type": "stream",
     "text": [
      "100%|██████████| 500/500 [00:20<00:00, 25.18it/s]\n"
     ]
    }
   ],
   "source": [
    "from tqdm import tqdm\n",
    "import numpy as np\n",
    "\n",
    "n = 500\n",
    "k = 10\n",
    "\n",
    "sample_user = [np.random.randint(1, 138000) for i in range(0, n)]\n",
    "\n",
    "prec_with_train = []\n",
    "for i in tqdm(sample_user):\n",
    "    _, p = check_precision_at_k(i, k)\n",
    "    prec_with_train.append(p)"
   ]
  },
  {
   "cell_type": "code",
   "execution_count": 12,
   "metadata": {},
   "outputs": [
    {
     "name": "stdout",
     "output_type": "stream",
     "text": [
      "Prec@k : 0.091\n"
     ]
    }
   ],
   "source": [
    "print(\"Prec@k :\", np.average(prec_with_train))"
   ]
  },
  {
   "cell_type": "markdown",
   "metadata": {},
   "source": [
    "## Check diversity"
   ]
  },
  {
   "cell_type": "code",
   "execution_count": 13,
   "metadata": {},
   "outputs": [
    {
     "name": "stdout",
     "output_type": "stream",
     "text": [
      "\n",
      "intersect\n",
      "{5058, 10659, 13122, 7304, 14025, 11536, 2073} 7\n",
      "\n",
      "union\n",
      "{5058, 13122, 7304, 14025, 911, 11536, 2073, 13277, 10659, 1321, 6825, 10796, 9334} 13\n",
      "\n",
      "distinct rate\n",
      "0.0004333333333333333\n"
     ]
    }
   ],
   "source": [
    "offset = 0 # discard top n suggestion\n",
    "n = 3000\n",
    "k = 10\n",
    "\n",
    "sample_user = [np.random.randint(0, 138493) for i in range(0, k)]\n",
    "\n",
    "intersect = {x[1] for x in get_top_suggestion(sample_user[0], k + offset)[offset:]}\n",
    "uni = intersect\n",
    "for i in range(1, n):\n",
    "\n",
    "    try:\n",
    "        s = {x[1] for x in get_top_suggestion(sample_user[i], k + offset)[offset:]}\n",
    "        intersect = intersect.intersection(s)\n",
    "        uni = uni.union(s)\n",
    "    except:\n",
    "        pass\n",
    "    \n",
    "print(\"\\nintersect\")\n",
    "print(intersect, len(intersect))\n",
    "print(\"\\nunion\")\n",
    "print(uni, len(uni))\n",
    "print(\"\\ndistinct rate\")\n",
    "print((len(uni)) / (n*k))"
   ]
  },
  {
   "cell_type": "markdown",
   "metadata": {},
   "source": [
    "# ==================="
   ]
  },
  {
   "cell_type": "code",
   "execution_count": null,
   "metadata": {},
   "outputs": [],
   "source": [
    "# sample_user = [32, 1949, 1128, 4321, 7828, 8242, 2119, 1827, 6240, 12282]\n",
    "sample_user = [np.random.randint(0, 138493) for i in range(0, 10)]\n",
    "# offset = int(138493 * 0.9)\n",
    "offset = 0\n",
    "sample_user = [i + offset for i in sample_user]"
   ]
  },
  {
   "cell_type": "code",
   "execution_count": 14,
   "metadata": {},
   "outputs": [],
   "source": [
    "sample_user = ['520169',\n",
    " '566966',\n",
    " '582374',\n",
    " '504296',\n",
    " '510204',\n",
    " '623623',\n",
    " '615870',\n",
    " '628970',\n",
    " '583750',\n",
    " '597239']\n",
    "\n",
    "sample_user = [int(x) - 500001 for x in sample_user]"
   ]
  },
  {
   "cell_type": "code",
   "execution_count": 15,
   "metadata": {},
   "outputs": [
    {
     "name": "stdout",
     "output_type": "stream",
     "text": [
      "[5058, 10659, 7304, 2073, 13122, 14025, 11536, 6825, 1321, 911]\n",
      "[5058, 10659, 7304, 2073, 13122, 14025, 11536, 1321, 6825, 911]\n",
      "[13712, 8497, 13405, 10659, 5058, 7304, 1839, 2073, 13310, 13122]\n",
      "[5058, 10659, 7304, 2073, 13122, 14025, 11536, 6825, 1321, 10796]\n",
      "[5058, 10659, 7304, 2073, 13122, 14025, 11536, 1321, 6825, 911]\n",
      "[5058, 10659, 7304, 2073, 13122, 14025, 11536, 6825, 1321, 911]\n",
      "[5058, 10659, 7304, 2073, 13122, 14025, 11536, 1321, 6825, 911]\n",
      "[5058, 10659, 7304, 2073, 13122, 14025, 11536, 6825, 1321, 911]\n",
      "[5058, 10659, 7304, 2073, 13122, 14025, 11536, 6825, 1321, 10796]\n",
      "[5058, 10659, 7304, 2073, 13122, 14025, 11536, 1321, 6825, 911]\n"
     ]
    }
   ],
   "source": [
    "for user in sample_user:\n",
    "    prediction = get_top_suggestion(user, 10)\n",
    "    prediction = [x[1] for x in prediction]\n",
    "    \n",
    "    truth = get_top_truth(user, 10)\n",
    "    truth = [x[1] for x in truth]\n",
    "    \n",
    "    print((prediction))\n",
    "#     display((truth))\n",
    "#     display(check_precision_at_k(user, 10))\n",
    "#     display(\"==================\")"
   ]
  },
  {
   "cell_type": "code",
   "execution_count": null,
   "metadata": {},
   "outputs": [],
   "source": []
  }
 ],
 "metadata": {
  "kernelspec": {
   "display_name": "Python 3",
   "language": "python",
   "name": "python3"
  },
  "language_info": {
   "codemirror_mode": {
    "name": "ipython",
    "version": 3
   },
   "file_extension": ".py",
   "mimetype": "text/x-python",
   "name": "python",
   "nbconvert_exporter": "python",
   "pygments_lexer": "ipython3",
   "version": "3.5.2"
  },
  "varInspector": {
   "cols": {
    "lenName": 16,
    "lenType": 16,
    "lenVar": 40
   },
   "kernels_config": {
    "python": {
     "delete_cmd_postfix": "",
     "delete_cmd_prefix": "del ",
     "library": "var_list.py",
     "varRefreshCmd": "print(var_dic_list())"
    },
    "r": {
     "delete_cmd_postfix": ") ",
     "delete_cmd_prefix": "rm(",
     "library": "var_list.r",
     "varRefreshCmd": "cat(var_dic_list()) "
    }
   },
   "types_to_exclude": [
    "module",
    "function",
    "builtin_function_or_method",
    "instance",
    "_Feature"
   ],
   "window_display": false
  }
 },
 "nbformat": 4,
 "nbformat_minor": 2
}
